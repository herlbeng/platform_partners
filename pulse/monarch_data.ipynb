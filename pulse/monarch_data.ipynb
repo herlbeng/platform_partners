{
 "cells": [
  {
   "cell_type": "code",
   "execution_count": 3,
   "id": "f73486b1-e313-47ee-b3bd-e81c3d4783f2",
   "metadata": {},
   "outputs": [
    {
     "name": "stdout",
     "output_type": "stream",
     "text": [
      "Requirement already satisfied: pandas in ./anaconda3/lib/python3.12/site-packages (2.2.2)\n",
      "Requirement already satisfied: numpy>=1.26.0 in ./anaconda3/lib/python3.12/site-packages (from pandas) (1.26.4)\n",
      "Requirement already satisfied: python-dateutil>=2.8.2 in ./anaconda3/lib/python3.12/site-packages (from pandas) (2.9.0.post0)\n",
      "Requirement already satisfied: pytz>=2020.1 in ./anaconda3/lib/python3.12/site-packages (from pandas) (2024.1)\n",
      "Requirement already satisfied: tzdata>=2022.7 in ./anaconda3/lib/python3.12/site-packages (from pandas) (2023.3)\n",
      "Requirement already satisfied: six>=1.5 in ./anaconda3/lib/python3.12/site-packages (from python-dateutil>=2.8.2->pandas) (1.16.0)\n",
      "Note: you may need to restart the kernel to use updated packages.\n"
     ]
    }
   ],
   "source": [
    "pip install pandas\n"
   ]
  },
  {
   "cell_type": "code",
   "execution_count": 5,
   "id": "057a65c5-75e0-4ce7-983c-bf9ab25db89a",
   "metadata": {},
   "outputs": [
    {
     "name": "stdout",
     "output_type": "stream",
     "text": [
      "Collecting bigquery\n",
      "  Downloading bigquery-0.0.45.tar.gz (8.3 kB)\n",
      "  Preparing metadata (setup.py) ... \u001b[?25ldone\n",
      "\u001b[?25hCollecting dbstream>=0.1.28 (from bigquery)\n",
      "  Downloading dbstream-0.1.28.tar.gz (4.6 kB)\n",
      "  Preparing metadata (setup.py) ... \u001b[?25ldone\n",
      "\u001b[?25hCollecting google-cloud-bigquery>=2.4.0 (from bigquery)\n",
      "  Downloading google_cloud_bigquery-3.29.0-py2.py3-none-any.whl.metadata (7.6 kB)\n",
      "Collecting googleauthentication>=0.0.18 (from bigquery)\n",
      "  Downloading googleauthentication-0.0.18.tar.gz (2.9 kB)\n",
      "  Preparing metadata (setup.py) ... \u001b[?25ldone\n",
      "\u001b[?25hCollecting google-cloud-bigquery-storage>=2.1.0 (from bigquery)\n",
      "  Downloading google_cloud_bigquery_storage-2.28.0-py2.py3-none-any.whl.metadata (5.7 kB)\n",
      "Collecting pandas==2.2.3 (from bigquery)\n",
      "  Downloading pandas-2.2.3-cp312-cp312-manylinux_2_17_x86_64.manylinux2014_x86_64.whl.metadata (89 kB)\n",
      "Requirement already satisfied: pyarrow>=2.0.0 in ./anaconda3/lib/python3.12/site-packages (from bigquery) (16.1.0)\n",
      "Requirement already satisfied: numpy>=1.26.0 in ./anaconda3/lib/python3.12/site-packages (from pandas==2.2.3->bigquery) (1.26.4)\n",
      "Requirement already satisfied: python-dateutil>=2.8.2 in ./anaconda3/lib/python3.12/site-packages (from pandas==2.2.3->bigquery) (2.9.0.post0)\n",
      "Requirement already satisfied: pytz>=2020.1 in ./anaconda3/lib/python3.12/site-packages (from pandas==2.2.3->bigquery) (2024.1)\n",
      "Requirement already satisfied: tzdata>=2022.7 in ./anaconda3/lib/python3.12/site-packages (from pandas==2.2.3->bigquery) (2023.3)\n",
      "Collecting dacktool>=0.0.7 (from dbstream>=0.1.28->bigquery)\n",
      "  Downloading dacktool-0.0.7.tar.gz (3.1 kB)\n",
      "  Preparing metadata (setup.py) ... \u001b[?25ldone\n",
      "\u001b[?25hRequirement already satisfied: requests>=2.22.0 in ./anaconda3/lib/python3.12/site-packages (from dbstream>=0.1.28->bigquery) (2.32.3)\n",
      "Collecting google-api-core>=2.3.2 (from dbstream>=0.1.28->bigquery)\n",
      "  Downloading google_api_core-2.24.1-py3-none-any.whl.metadata (3.0 kB)\n",
      "Collecting google-auth<3.0.0dev,>=2.14.1 (from google-cloud-bigquery>=2.4.0->bigquery)\n",
      "  Downloading google_auth-2.38.0-py2.py3-none-any.whl.metadata (4.8 kB)\n",
      "Collecting google-cloud-core<3.0.0dev,>=2.4.1 (from google-cloud-bigquery>=2.4.0->bigquery)\n",
      "  Downloading google_cloud_core-2.4.2-py2.py3-none-any.whl.metadata (2.7 kB)\n",
      "Collecting google-resumable-media<3.0dev,>=2.0.0 (from google-cloud-bigquery>=2.4.0->bigquery)\n",
      "  Downloading google_resumable_media-2.7.2-py2.py3-none-any.whl.metadata (2.2 kB)\n",
      "Requirement already satisfied: packaging>=20.0.0 in ./anaconda3/lib/python3.12/site-packages (from google-cloud-bigquery>=2.4.0->bigquery) (24.1)\n",
      "Collecting proto-plus<2.0.0dev,>=1.22.0 (from google-cloud-bigquery-storage>=2.1.0->bigquery)\n",
      "  Downloading proto_plus-1.26.0-py3-none-any.whl.metadata (2.2 kB)\n",
      "Requirement already satisfied: protobuf!=3.20.0,!=3.20.1,!=4.21.0,!=4.21.1,!=4.21.2,!=4.21.3,!=4.21.4,!=4.21.5,<6.0.0dev,>=3.20.2 in ./anaconda3/lib/python3.12/site-packages (from google-cloud-bigquery-storage>=2.1.0->bigquery) (4.25.3)\n",
      "Collecting google-api-python-client==1.7.11 (from googleauthentication>=0.0.18->bigquery)\n",
      "  Downloading google-api-python-client-1.7.11.tar.gz (142 kB)\n",
      "  Preparing metadata (setup.py) ... \u001b[?25ldone\n",
      "\u001b[?25hCollecting google-auth-httplib2==0.0.3 (from googleauthentication>=0.0.18->bigquery)\n",
      "  Downloading google_auth_httplib2-0.0.3-py2.py3-none-any.whl.metadata (2.1 kB)\n",
      "Collecting google-auth-oauthlib>=0.4.0 (from googleauthentication>=0.0.18->bigquery)\n",
      "  Downloading google_auth_oauthlib-1.2.1-py2.py3-none-any.whl.metadata (2.7 kB)\n",
      "Requirement already satisfied: cryptography>=2.7 in ./anaconda3/lib/python3.12/site-packages (from googleauthentication>=0.0.18->bigquery) (43.0.0)\n",
      "Collecting google-cloud-secret-manager==2.7.2 (from googleauthentication>=0.0.18->bigquery)\n",
      "  Downloading google_cloud_secret_manager-2.7.2-py2.py3-none-any.whl.metadata (4.3 kB)\n",
      "Collecting httplib2<1dev,>=0.9.2 (from google-api-python-client==1.7.11->googleauthentication>=0.0.18->bigquery)\n",
      "  Using cached httplib2-0.22.0-py3-none-any.whl.metadata (2.6 kB)\n",
      "Requirement already satisfied: six<2dev,>=1.6.1 in ./anaconda3/lib/python3.12/site-packages (from google-api-python-client==1.7.11->googleauthentication>=0.0.18->bigquery) (1.16.0)\n",
      "Collecting uritemplate<4dev,>=3.0.0 (from google-api-python-client==1.7.11->googleauthentication>=0.0.18->bigquery)\n",
      "  Downloading uritemplate-3.0.1-py2.py3-none-any.whl.metadata (4.6 kB)\n",
      "Collecting grpc-google-iam-v1<0.13dev,>=0.12.3 (from google-cloud-secret-manager==2.7.2->googleauthentication>=0.0.18->bigquery)\n",
      "  Downloading grpc_google_iam_v1-0.12.7-py2.py3-none-any.whl.metadata (3.3 kB)\n",
      "Collecting libcst>=0.2.5 (from google-cloud-secret-manager==2.7.2->googleauthentication>=0.0.18->bigquery)\n",
      "  Downloading libcst-1.6.0-cp312-cp312-manylinux_2_17_x86_64.manylinux2014_x86_64.whl.metadata (17 kB)\n",
      "Requirement already satisfied: cffi>=1.12 in ./anaconda3/lib/python3.12/site-packages (from cryptography>=2.7->googleauthentication>=0.0.18->bigquery) (1.17.1)\n",
      "Collecting googleapis-common-protos<2.0.dev0,>=1.56.2 (from google-api-core>=2.3.2->dbstream>=0.1.28->bigquery)\n",
      "  Downloading googleapis_common_protos-1.68.0-py2.py3-none-any.whl.metadata (5.1 kB)\n",
      "Collecting grpcio<2.0dev,>=1.33.2 (from google-api-core[grpc]<3.0.0dev,>=2.11.1->google-cloud-bigquery>=2.4.0->bigquery)\n",
      "  Downloading grpcio-1.70.0-cp312-cp312-manylinux_2_17_x86_64.manylinux2014_x86_64.whl.metadata (3.9 kB)\n",
      "Collecting grpcio-status<2.0.dev0,>=1.33.2 (from google-api-core[grpc]<3.0.0dev,>=2.11.1->google-cloud-bigquery>=2.4.0->bigquery)\n",
      "  Downloading grpcio_status-1.70.0-py3-none-any.whl.metadata (1.1 kB)\n",
      "Requirement already satisfied: cachetools<6.0,>=2.0.0 in ./anaconda3/lib/python3.12/site-packages (from google-auth<3.0.0dev,>=2.14.1->google-cloud-bigquery>=2.4.0->bigquery) (5.3.3)\n",
      "Requirement already satisfied: pyasn1-modules>=0.2.1 in ./anaconda3/lib/python3.12/site-packages (from google-auth<3.0.0dev,>=2.14.1->google-cloud-bigquery>=2.4.0->bigquery) (0.2.8)\n",
      "Collecting rsa<5,>=3.1.4 (from google-auth<3.0.0dev,>=2.14.1->google-cloud-bigquery>=2.4.0->bigquery)\n",
      "  Using cached rsa-4.9-py3-none-any.whl.metadata (4.2 kB)\n",
      "Collecting requests-oauthlib>=0.7.0 (from google-auth-oauthlib>=0.4.0->googleauthentication>=0.0.18->bigquery)\n",
      "  Downloading requests_oauthlib-2.0.0-py2.py3-none-any.whl.metadata (11 kB)\n",
      "Collecting google-crc32c<2.0dev,>=1.0 (from google-resumable-media<3.0dev,>=2.0.0->google-cloud-bigquery>=2.4.0->bigquery)\n",
      "  Downloading google_crc32c-1.6.0-cp312-cp312-manylinux_2_17_x86_64.manylinux2014_x86_64.whl.metadata (2.3 kB)\n",
      "Requirement already satisfied: charset-normalizer<4,>=2 in ./anaconda3/lib/python3.12/site-packages (from requests>=2.22.0->dbstream>=0.1.28->bigquery) (3.3.2)\n",
      "Requirement already satisfied: idna<4,>=2.5 in ./anaconda3/lib/python3.12/site-packages (from requests>=2.22.0->dbstream>=0.1.28->bigquery) (3.7)\n",
      "Requirement already satisfied: urllib3<3,>=1.21.1 in ./anaconda3/lib/python3.12/site-packages (from requests>=2.22.0->dbstream>=0.1.28->bigquery) (2.2.3)\n",
      "Requirement already satisfied: certifi>=2017.4.17 in ./anaconda3/lib/python3.12/site-packages (from requests>=2.22.0->dbstream>=0.1.28->bigquery) (2025.1.31)\n",
      "Requirement already satisfied: pycparser in ./anaconda3/lib/python3.12/site-packages (from cffi>=1.12->cryptography>=2.7->googleauthentication>=0.0.18->bigquery) (2.21)\n",
      "INFO: pip is looking at multiple versions of grpcio-status to determine which version is compatible with other requirements. This could take a while.\n",
      "Collecting grpcio-status<2.0.dev0,>=1.33.2 (from google-api-core[grpc]<3.0.0dev,>=2.11.1->google-cloud-bigquery>=2.4.0->bigquery)\n",
      "  Downloading grpcio_status-1.69.0-py3-none-any.whl.metadata (1.1 kB)\n",
      "  Downloading grpcio_status-1.68.1-py3-none-any.whl.metadata (1.1 kB)\n",
      "  Downloading grpcio_status-1.68.0-py3-none-any.whl.metadata (1.1 kB)\n",
      "  Downloading grpcio_status-1.67.1-py3-none-any.whl.metadata (1.1 kB)\n",
      "  Downloading grpcio_status-1.67.0-py3-none-any.whl.metadata (1.1 kB)\n",
      "  Downloading grpcio_status-1.66.2-py3-none-any.whl.metadata (1.1 kB)\n",
      "  Downloading grpcio_status-1.66.1-py3-none-any.whl.metadata (1.1 kB)\n",
      "INFO: pip is still looking at multiple versions of grpcio-status to determine which version is compatible with other requirements. This could take a while.\n",
      "  Downloading grpcio_status-1.66.0-py3-none-any.whl.metadata (1.1 kB)\n",
      "  Downloading grpcio_status-1.65.5-py3-none-any.whl.metadata (1.1 kB)\n",
      "  Downloading grpcio_status-1.65.4-py3-none-any.whl.metadata (1.1 kB)\n",
      "  Downloading grpcio_status-1.65.2-py3-none-any.whl.metadata (1.1 kB)\n",
      "  Downloading grpcio_status-1.65.1-py3-none-any.whl.metadata (1.1 kB)\n",
      "INFO: This is taking longer than usual. You might need to provide the dependency resolver with stricter constraints to reduce runtime. See https://pip.pypa.io/warnings/backtracking for guidance. If you want to abort this run, press Ctrl + C.\n",
      "  Downloading grpcio_status-1.64.3-py3-none-any.whl.metadata (1.1 kB)\n",
      "  Downloading grpcio_status-1.64.1-py3-none-any.whl.metadata (1.1 kB)\n",
      "  Downloading grpcio_status-1.64.0-py3-none-any.whl.metadata (1.1 kB)\n",
      "  Downloading grpcio_status-1.63.2-py3-none-any.whl.metadata (1.1 kB)\n",
      "  Downloading grpcio_status-1.63.0-py3-none-any.whl.metadata (1.1 kB)\n",
      "  Downloading grpcio_status-1.62.3-py3-none-any.whl.metadata (1.3 kB)\n",
      "Requirement already satisfied: pyparsing!=3.0.0,!=3.0.1,!=3.0.2,!=3.0.3,<4,>=2.4.2 in ./anaconda3/lib/python3.12/site-packages (from httplib2<1dev,>=0.9.2->google-api-python-client==1.7.11->googleauthentication>=0.0.18->bigquery) (3.1.2)\n",
      "Requirement already satisfied: pyyaml>=5.2 in ./anaconda3/lib/python3.12/site-packages (from libcst>=0.2.5->google-cloud-secret-manager==2.7.2->googleauthentication>=0.0.18->bigquery) (6.0.1)\n",
      "Requirement already satisfied: pyasn1<0.5.0,>=0.4.6 in ./anaconda3/lib/python3.12/site-packages (from pyasn1-modules>=0.2.1->google-auth<3.0.0dev,>=2.14.1->google-cloud-bigquery>=2.4.0->bigquery) (0.4.8)\n",
      "Collecting oauthlib>=3.0.0 (from requests-oauthlib>=0.7.0->google-auth-oauthlib>=0.4.0->googleauthentication>=0.0.18->bigquery)\n",
      "  Using cached oauthlib-3.2.2-py3-none-any.whl.metadata (7.5 kB)\n",
      "Downloading pandas-2.2.3-cp312-cp312-manylinux_2_17_x86_64.manylinux2014_x86_64.whl (12.7 MB)\n",
      "\u001b[2K   \u001b[38;2;114;156;31m━━━━━━━━━━━━━━━━━━━━━━━━━━━━━━━━━━━━━━━━\u001b[0m \u001b[32m12.7/12.7 MB\u001b[0m \u001b[31m3.0 MB/s\u001b[0m eta \u001b[36m0:00:00\u001b[0mm eta \u001b[36m0:00:01\u001b[0m[36m0:00:01\u001b[0m\n",
      "\u001b[?25hDownloading google_cloud_bigquery-3.29.0-py2.py3-none-any.whl (244 kB)\n",
      "Downloading google_cloud_bigquery_storage-2.28.0-py2.py3-none-any.whl (251 kB)\n",
      "Downloading google_auth_httplib2-0.0.3-py2.py3-none-any.whl (6.3 kB)\n",
      "Downloading google_cloud_secret_manager-2.7.2-py2.py3-none-any.whl (94 kB)\n",
      "Downloading google_api_core-2.24.1-py3-none-any.whl (160 kB)\n",
      "Downloading google_auth-2.38.0-py2.py3-none-any.whl (210 kB)\n",
      "Downloading google_auth_oauthlib-1.2.1-py2.py3-none-any.whl (24 kB)\n",
      "Downloading google_cloud_core-2.4.2-py2.py3-none-any.whl (29 kB)\n",
      "Downloading google_resumable_media-2.7.2-py2.py3-none-any.whl (81 kB)\n",
      "Downloading proto_plus-1.26.0-py3-none-any.whl (50 kB)\n",
      "Downloading google_crc32c-1.6.0-cp312-cp312-manylinux_2_17_x86_64.manylinux2014_x86_64.whl (32 kB)\n",
      "Downloading googleapis_common_protos-1.68.0-py2.py3-none-any.whl (164 kB)\n",
      "Downloading grpc_google_iam_v1-0.12.7-py2.py3-none-any.whl (26 kB)\n",
      "Downloading grpcio-1.70.0-cp312-cp312-manylinux_2_17_x86_64.manylinux2014_x86_64.whl (5.9 MB)\n",
      "\u001b[2K   \u001b[38;2;114;156;31m━━━━━━━━━━━━━━━━━━━━━━━━━━━━━━━━━━━━━━━━\u001b[0m \u001b[32m5.9/5.9 MB\u001b[0m \u001b[31m2.7 MB/s\u001b[0m eta \u001b[36m0:00:00\u001b[0m[36m0:00:01\u001b[0m[36m0:00:01\u001b[0m:01\u001b[0m\n",
      "\u001b[?25hDownloading grpcio_status-1.62.3-py3-none-any.whl (14 kB)\n",
      "Using cached httplib2-0.22.0-py3-none-any.whl (96 kB)\n",
      "Downloading libcst-1.6.0-cp312-cp312-manylinux_2_17_x86_64.manylinux2014_x86_64.whl (2.3 MB)\n",
      "\u001b[2K   \u001b[38;2;114;156;31m━━━━━━━━━━━━━━━━━━━━━━━━━━━━━━━━━━━━━━━━\u001b[0m \u001b[32m2.3/2.3 MB\u001b[0m \u001b[31m2.8 MB/s\u001b[0m eta \u001b[36m0:00:00\u001b[0m[31m3.2 MB/s\u001b[0m eta \u001b[36m0:00:01\u001b[0m\n",
      "\u001b[?25hDownloading requests_oauthlib-2.0.0-py2.py3-none-any.whl (24 kB)\n",
      "Using cached rsa-4.9-py3-none-any.whl (34 kB)\n",
      "Downloading uritemplate-3.0.1-py2.py3-none-any.whl (15 kB)\n",
      "Using cached oauthlib-3.2.2-py3-none-any.whl (151 kB)\n",
      "Building wheels for collected packages: bigquery, dbstream, googleauthentication, google-api-python-client, dacktool\n",
      "  Building wheel for bigquery (setup.py) ... \u001b[?25ldone\n",
      "\u001b[?25h  Created wheel for bigquery: filename=bigquery-0.0.45-py3-none-any.whl size=9782 sha256=f15e62c9176b45fe41bc1443ae54b2bf6dd2333849e4998a666b59358f3e9247\n",
      "  Stored in directory: /home/herlbeng/.cache/pip/wheels/d4/2e/08/2ce93eee35ebf459fe40429703078d5b995653696e9ec6b849\n",
      "  Building wheel for dbstream (setup.py) ... \u001b[?25ldone\n",
      "\u001b[?25h  Created wheel for dbstream: filename=dbstream-0.1.28-py3-none-any.whl size=6124 sha256=651fd389883c23ad7b78bd5f1368f95554cdb532f8afde478038416abc8b36d7\n",
      "  Stored in directory: /home/herlbeng/.cache/pip/wheels/04/cb/d9/5243643c65e002b94dc51e675ae192bb808ed7580e25281a7a\n",
      "  Building wheel for googleauthentication (setup.py) ... \u001b[?25ldone\n",
      "\u001b[?25h  Created wheel for googleauthentication: filename=googleauthentication-0.0.18-py3-none-any.whl size=3893 sha256=972bc415700109b6720b51ed66bd9749e90144d088b0778e5320d9a0a6920dac\n",
      "  Stored in directory: /home/herlbeng/.cache/pip/wheels/f5/e0/7e/0f4bd16df346675d3f572bf4cb3c0d01e374c070a14263a1e5\n",
      "  Building wheel for google-api-python-client (setup.py) ... \u001b[?25ldone\n",
      "\u001b[?25h  Created wheel for google-api-python-client: filename=google_api_python_client-1.7.11-py3-none-any.whl size=56522 sha256=71a537f2cb81fb52e704d4ad7121c0c157204fd98f4a8270c381a5370ddd9654\n",
      "  Stored in directory: /home/herlbeng/.cache/pip/wheels/7c/f0/e7/823ff15c8e0e2773881e016a69e902910c1d34dcce2b9dea7d\n",
      "  Building wheel for dacktool (setup.py) ... \u001b[?25ldone\n",
      "\u001b[?25h  Created wheel for dacktool: filename=dacktool-0.0.7-py3-none-any.whl size=4782 sha256=0a046f4f00366f07590095ba20943ff9bc3bd91d721d83388ea96bf712711154\n",
      "  Stored in directory: /home/herlbeng/.cache/pip/wheels/76/f7/16/0b66447e4f1c064f6a3ea769861dfa80a38c6d66ec38247829\n",
      "Successfully built bigquery dbstream googleauthentication google-api-python-client dacktool\n",
      "Installing collected packages: uritemplate, rsa, proto-plus, oauthlib, libcst, httplib2, grpcio, googleapis-common-protos, google-crc32c, dacktool, requests-oauthlib, pandas, grpcio-status, google-resumable-media, google-auth, grpc-google-iam-v1, google-auth-oauthlib, google-auth-httplib2, google-api-core, google-cloud-core, google-api-python-client, dbstream, google-cloud-secret-manager, google-cloud-bigquery-storage, google-cloud-bigquery, googleauthentication, bigquery\n",
      "  Attempting uninstall: pandas\n",
      "    Found existing installation: pandas 2.2.2\n",
      "    Uninstalling pandas-2.2.2:\n",
      "      Successfully uninstalled pandas-2.2.2\n",
      "Successfully installed bigquery-0.0.45 dacktool-0.0.7 dbstream-0.1.28 google-api-core-2.24.1 google-api-python-client-1.7.11 google-auth-2.38.0 google-auth-httplib2-0.0.3 google-auth-oauthlib-1.2.1 google-cloud-bigquery-3.29.0 google-cloud-bigquery-storage-2.28.0 google-cloud-core-2.4.2 google-cloud-secret-manager-2.7.2 google-crc32c-1.6.0 google-resumable-media-2.7.2 googleapis-common-protos-1.68.0 googleauthentication-0.0.18 grpc-google-iam-v1-0.12.7 grpcio-1.70.0 grpcio-status-1.62.3 httplib2-0.22.0 libcst-1.6.0 oauthlib-3.2.2 pandas-2.2.3 proto-plus-1.26.0 requests-oauthlib-2.0.0 rsa-4.9 uritemplate-3.0.1\n",
      "Note: you may need to restart the kernel to use updated packages.\n"
     ]
    }
   ],
   "source": [
    "pip install bigquery\n"
   ]
  },
  {
   "cell_type": "code",
   "execution_count": 7,
   "id": "fa84a95d-99c5-41a2-8389-43eed3a07d78",
   "metadata": {},
   "outputs": [
    {
     "name": "stdout",
     "output_type": "stream",
     "text": [
      "\u001b[31mERROR: Could not find a version that satisfies the requirement service_account (from versions: none)\u001b[0m\u001b[31m\n",
      "\u001b[0m\u001b[31mERROR: No matching distribution found for service_account\u001b[0m\u001b[31m\n",
      "\u001b[0mNote: you may need to restart the kernel to use updated packages.\n"
     ]
    }
   ],
   "source": [
    "pip install service_account"
   ]
  },
  {
   "cell_type": "code",
   "execution_count": 11,
   "id": "d91972a2-a81a-4d38-b40b-8c8e6642705a",
   "metadata": {},
   "outputs": [],
   "source": [
    "import pandas as pd\n",
    "from google.cloud import bigquery\n",
    "from google.oauth2 import service_account"
   ]
  },
  {
   "cell_type": "code",
   "execution_count": 37,
   "id": "93f8cb62-9d9f-4b37-b4b1-3fde6517aff1",
   "metadata": {},
   "outputs": [],
   "source": [
    "# Configura las credenciales y el cliente de BigQuery\n",
    "credentials = service_account.Credentials.from_service_account_file(\n",
    "    '/home/herlbeng/HBDATA/GPT/gp-technologies-2025-f07ce5d62c39.json'\n",
    ")\n",
    "client = bigquery.Client(credentials=credentials, project=credentials.project_id)\n"
   ]
  },
  {
   "cell_type": "code",
   "execution_count": 39,
   "id": "3349b516-9409-4243-a8df-597c136b17b9",
   "metadata": {},
   "outputs": [
    {
     "name": "stdout",
     "output_type": "stream",
     "text": [
      "Error: 403 POST https://bigquery.googleapis.com/upload/bigquery/v2/projects/gp-technologies-2025/jobs?uploadType=resumable: Access Denied: Project gp-technologies-2025: User does not have bigquery.jobs.create permission in project gp-technologies-2025.\n"
     ]
    }
   ],
   "source": [
    "# Configura el dataset y la tabla\n",
    "dataset_id = 'monarch'\n",
    "table_id = 'data'\n",
    "table_ref = client.dataset(dataset_id).table(table_id)\n",
    "\n",
    "# Lee el archivo CSV\n",
    "csv_file_path = '/home/herlbeng/Descargas/MONARCH PULSE 2024 - DATA.csv'\n",
    "df = pd.read_csv(csv_file_path, low_memory=False)\n",
    "\n",
    "# Configura el job para cargar los datos\n",
    "job_config = bigquery.LoadJobConfig(\n",
    "    source_format=bigquery.SourceFormat.CSV,\n",
    "    skip_leading_rows=1,  # Si el CSV tiene encabezados\n",
    "    autodetect=True,       # BigQuery infiere el esquema automáticamente\n",
    "    write_disposition=bigquery.WriteDisposition.WRITE_TRUNCATE,  # Crea la tabla si no existe\n",
    ")\n",
    "\n",
    "# Carga los datos en BigQuery\n",
    "try:\n",
    "    job = client.load_table_from_dataframe(df, table_ref, job_config=job_config)\n",
    "    job.result()  # Espera a que se complete el trabajo\n",
    "    print(f'Tabla {table_id} creada y datos cargados en el dataset {dataset_id}.')\n",
    "except Exception as e:\n",
    "    print(f'Error: {e}')"
   ]
  },
  {
   "cell_type": "code",
   "execution_count": null,
   "id": "7e31b080-598a-439b-91b6-9d62a725f40a",
   "metadata": {},
   "outputs": [],
   "source": [
    "    "
   ]
  }
 ],
 "metadata": {
  "kernelspec": {
   "display_name": "Python 3 (ipykernel)",
   "language": "python",
   "name": "python3"
  },
  "language_info": {
   "codemirror_mode": {
    "name": "ipython",
    "version": 3
   },
   "file_extension": ".py",
   "mimetype": "text/x-python",
   "name": "python",
   "nbconvert_exporter": "python",
   "pygments_lexer": "ipython3",
   "version": "3.12.7"
  }
 },
 "nbformat": 4,
 "nbformat_minor": 5
}
