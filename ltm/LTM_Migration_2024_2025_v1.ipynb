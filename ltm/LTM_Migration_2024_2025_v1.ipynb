{
  "nbformat": 4,
  "nbformat_minor": 0,
  "metadata": {
    "colab": {
      "cell_execution_strategy": "setup",
      "provenance": [],
      "name": "LTM Migration 2024-2025"
    },
    "kernelspec": {
      "name": "python3",
      "display_name": "Python 3"
    },
    "language_info": {
      "name": "python"
    }
  },
  "cells": [
    {
      "cell_type": "markdown",
      "source": [
        "#**2025-2024 Procedures:**\n"
      ],
      "metadata": {
        "id": "AGYvNX6B_M2w"
      }
    },
    {
      "cell_type": "markdown",
      "source": [
        "### Configuration:\n",
        "\n",
        "---\n",
        "\n"
      ],
      "metadata": {
        "id": "pAqsV2cuAEzY"
      }
    },
    {
      "cell_type": "code",
      "source": [
        "from google.cloud import bigquery\n",
        "from datetime import datetime\n",
        "\n",
        "client = bigquery.Client()\n",
        "ENV = \"dev\"             ### REF ENVIRONMENT (DEV/QAS/PRO)  ###\n",
        "DATASET = \"bronze\"      ### REF LAYER (BRONZE/SILVER/GOLD) ###\n",
        "PREFIX = \"ltm_kpis_\"    ### LTM Process ltm_ / ltm_kpis_   ###\n",
        "SUFFIX = \"25\"           ### REF LAYER (BRONZE/SILVER/GOLD) ###\n",
        "NO_DROP = \"TRUE\"        ### REF TRUE / FALSE               ###\n",
        "BUCKET  = \"dev_ltm_kpis\"\n",
        "\n",
        "# Company List with original name and new name:\n",
        "companies = [\n",
        "    (\"MONARCH\", \"Shape MHS - Monarch\"),\n",
        "    (\"CAPITAL\", \"Shape CHC - Capital\"),\n",
        "    (\"FUSION\", \"Shape TUCSON - Fusion\"),\n",
        "    (\"OVER THE MOON\", \"Shape OTM - Over the Moon - In Phase\"),\n",
        "    (\"A1 REFRIGERATION\", \"Shape AONE - A One\"),\n",
        "    (\"LBA\", \"Shape LBA - LBA\"),\n",
        "    (\"PRODIGY PLUMBING\", \"Shape LBCA - Prodigy Plumbing\"),\n",
        "    (\"DEAR\", \"Shape DEAR - Dear Services\"),\n",
        "    (\"HEALTHY HOME\", \"Shape HHWI - Healthy Home\"),\n",
        "    (\"CHAD LOVE\", \"Shape CLS - Chad Love\"),\n",
        "    (\"H AND E COMFORT\", \"Shape HECS - H&E Comfort\"),\n",
        "    (\"JSP\", \"Shape JSP - John Stevenson\"),\n",
        "    (\"ICE COOLING\", \"Shape ICO - ICE\"),\n",
        "    (\"COMPLETE COMFORT\", \"Shape INDY - Complete Comfort\"),\n",
        "    (\"SYNERGY HOME\", \"Shape LEX - Synergy Home\"),\n",
        "    (\"HOWZE\", \"Shape HZE - Howze Plumbing\"),\n",
        "    (\"PROSTAR SERVICES\", \"Shape NCVA - Prostar\"),\n",
        "    (\"ABSOLUTE PLUMBING\", \"Shape AHS - Absolute Plumbing\"),\n",
        "    (\"PERSONAL\", \"Shape PPP - Personal PHC\"),\n",
        "    (\"MY GUY\", \"Shape MGY - My Guy\"),\n",
        "    (\"NORTHSTAR\", \"Shape NS - Northstar Services\"),\n",
        "    (\"SUPREME\", \"Shape SST - Supreme Service\"),\n",
        "    (\"SPARTAN\", \"Shape JFSP - Spartan Plumbing\"),\n",
        "    (\"PERFECT TEMP\", \"Shape PTHC - Perfect Temp\"),\n",
        "    (\"PILOT\", \"Shape PHS - Pilot Plumbing\"),\n",
        "    (\"COSMIC COMFORT\", \"Shape COS - Jantz Cosmic Comfort\"),\n",
        "    (\"GREEN ENERGY\", \"Shape GEM - Green Energy\"),\n",
        "    (\"SHARP\", \"Shape NEWE - Sharp PHC\"),\n",
        "    (\"DAFFY DUCTS\", \"DAFFY DUCTS\")\n",
        "]"
      ],
      "metadata": {
        "id": "Fb8hy8TDAHIM"
      },
      "execution_count": null,
      "outputs": []
    },
    {
      "cell_type": "markdown",
      "source": [
        "### `Drop Tables: Variable Layer (Bronze/Silver/Gold)`\n",
        "\n",
        "---\n",
        "\n"
      ],
      "metadata": {
        "id": "utGNPijk_AJ2"
      }
    },
    {
      "cell_type": "code",
      "source": [
        "if (NO_DROP == \"FALSE\"):\n",
        "  # Iterar sobre cada compañía en la lista\n",
        "  for company_name, company_new_name in companies:\n",
        "      source = f\"{PREFIX}{company_name.replace(' ', '_').lower()}\"\n",
        "      table_id = f\"gp-technologies-{ENV}.{DATASET}.{source}_{SUFFIX}\"\n",
        "\n",
        "      sql_statements = [\n",
        "          f\"\"\"\n",
        "          DROP TABLE IF EXISTS {table_id};\n",
        "          \"\"\"\n",
        "      ]\n",
        "\n",
        "      # Run sql_statements en BigQuery\n",
        "      for sql in sql_statements:\n",
        "          query_job = client.query(sql)\n",
        "          query_job.result()\n",
        "\n",
        "      # Result:\n",
        "      print(f\"DROP TABLE {table_id} sucessfully.\")\n",
        "else:\n",
        "      print(f\"DROP NOT ACTIVATE.\")"
      ],
      "metadata": {
        "colab": {
          "base_uri": "https://localhost:8080/"
        },
        "id": "Yw2CLgUJ--1Q",
        "outputId": "a890ab36-8fa2-4152-e181-cc5a5c1bc01d"
      },
      "execution_count": null,
      "outputs": [
        {
          "output_type": "stream",
          "name": "stdout",
          "text": [
            "DROP NOT ACTIVATE.\n"
          ]
        }
      ]
    },
    {
      "cell_type": "markdown",
      "source": [
        "### `CLYCLE SCRIPT FOR AUTOSCHEMA, BLANKLINES VALIDATE AND SQL SENTENCES:`\n",
        "---\n",
        "\n"
      ],
      "metadata": {
        "id": "hzFHtPpZBQKF"
      }
    },
    {
      "cell_type": "code",
      "source": [
        "import pandas as pd\n",
        "import gcsfs\n",
        "\n",
        "if (NO_DROP == \"FALSE\"):\n",
        "\n",
        "  print(datetime.now().strftime(\"%Y-%m-%d\"))\n",
        "\n",
        "  # Iterar sobre cada compañía en la lista\n",
        "  for company_name, company_new_name in companies:\n",
        "      #source   = f\"{company_name}\"  # Format Path\n",
        "      source    = f\"{company_name.replace(' ', '_')}\"  # Format Path\n",
        "      csv_path  = f\"gs://{BUCKET}/{SUFFIX}/{source}.CSV\"\n",
        "      table_id  = source.replace(' ', '_').lower()\n",
        "      table     = f\"gp-technologies-{ENV}.{DATASET}.{PREFIX}{table_id}_{SUFFIX}\"\n",
        "\n",
        "      # Leer CSV desde GCS sin líneas en blanco\n",
        "      fs = gcsfs.GCSFileSystem()\n",
        "      with fs.open(csv_path, 'r', encoding=\"utf-8\") as f:\n",
        "          df = pd.read_csv(f, skip_blank_lines=True)\n",
        "\n",
        "      # Filtrar filas completamente vacías\n",
        "      df = df.dropna(how='all')\n",
        "\n",
        "      # Filtrar filas con solo espacios, tabulaciones o saltos de línea\n",
        "      df = df[~df.apply(lambda row: row.astype(str).str.strip().eq(\"\").all(), axis=1)]\n",
        "\n",
        "      # Guardar CSV limpio en GCS\n",
        "      clean_csv_path = f\"gs://{BUCKET}/{SUFFIX}/{source}_clean.csv\"\n",
        "      with fs.open(clean_csv_path, 'w', encoding=\"utf-8\", newline=\"\") as f:\n",
        "          df.to_csv(f, index=False)\n",
        "\n",
        "      # Configurar carga en BigQuery\n",
        "      job_config = bigquery.LoadJobConfig(\n",
        "          autodetect=True,\n",
        "          source_format=bigquery.SourceFormat.CSV,\n",
        "      )\n",
        "\n",
        "      # Cargar CSV limpio en BigQuery\n",
        "      load_job = client.load_table_from_uri(clean_csv_path, table, job_config=job_config)\n",
        "      load_job.result()\n",
        "\n",
        "      # Ejecutar consultas SQL en BigQuery\n",
        "      sql_statements = [\n",
        "          f\"ALTER TABLE `{table}` ADD COLUMN IF NOT EXISTS created_at TIMESTAMP;\",\n",
        "          f\"ALTER TABLE `{table}` ADD COLUMN IF NOT EXISTS status BOOL;\",\n",
        "          f\"\"\"\n",
        "          UPDATE `{table}`\n",
        "          SET company_name      = \"{company_name}\",\n",
        "              company_new_name  = \"{company_new_name}\",\n",
        "              created_by        = \"hernann@peachcfo.com\",\n",
        "              tab_title         = \"LTM - KPIS\",\n",
        "              created_at        = CURRENT_TIMESTAMP(),\n",
        "              status            = TRUE\n",
        "          WHERE status IS NULL OR status = FALSE;\n",
        "          \"\"\",\n",
        "          f\"\"\"\n",
        "          UPDATE `{table}`\n",
        "          SET status = FALSE\n",
        "          WHERE region IS NULL;\n",
        "          \"\"\"\n",
        "      ]\n",
        "\n",
        "      # Run sql_statements en BigQuery\n",
        "      for sql in sql_statements:\n",
        "          query_job = client.query(sql)\n",
        "          query_job.result()\n",
        "\n",
        "      # Result:\n",
        "      destination_table = client.get_table(table)\n",
        "      print(f\"Loaded {destination_table.num_rows} rows for {company_name} ({company_new_name}).\")\n",
        "else:\n",
        "      print(f\"DROP NOT ACTIVATE.\")"
      ],
      "metadata": {
        "id": "I6Yu4vIXpoie",
        "colab": {
          "base_uri": "https://localhost:8080/"
        },
        "outputId": "5769b127-5e8a-48e7-cede-9f0217f23fe7"
      },
      "execution_count": null,
      "outputs": [
        {
          "output_type": "stream",
          "name": "stdout",
          "text": [
            "DROP NOT ACTIVATE.\n"
          ]
        }
      ]
    },
    {
      "cell_type": "markdown",
      "source": [
        "### `INDIVIDUAL SCRIPT FOR AUTOSCHEMA, BLANKLINES VALIDATE AND SQL SENTENCES:`"
      ],
      "metadata": {
        "id": "ZkhhvOyvAJk-"
      }
    },
    {
      "cell_type": "code",
      "source": [
        "import pandas as pd\n",
        "import gcsfs\n",
        "\n",
        "# (\"\", \"\"),\n",
        "\n",
        "company_name = \"\"\n",
        "company_new_name = \"\"\n",
        "\n",
        "if (company_name != \"\"):\n",
        "\n",
        "  #source   = f\"{company_name}\"  # Format Path\n",
        "  source    = f\"{company_name.replace(' ', '_')}\"  # Format Path\n",
        "  csv_path  = f\"gs://dev_ltm_csv/{SUFFIX}/{source}.CSV\"\n",
        "  table_id  = source.replace(' ', '_').lower()\n",
        "  table     = f\"gp-technologies-{ENV}.{DATASET}.{PREFIX}{table_id}_{SUFFIX}\"\n",
        "\n",
        "  # Leer CSV desde GCS sin líneas en blanco\n",
        "  fs = gcsfs.GCSFileSystem()\n",
        "  with fs.open(csv_path, 'r', encoding=\"utf-8\") as f:\n",
        "      df = pd.read_csv(f, skip_blank_lines=True)\n",
        "\n",
        "  # Filtrar filas completamente vacías\n",
        "  df = df.dropna(how='all')\n",
        "\n",
        "  # Filtrar filas con solo espacios, tabulaciones o saltos de línea\n",
        "  df = df[~df.apply(lambda row: row.astype(str).str.strip().eq(\"\").all(), axis=1)]\n",
        "\n",
        "  # Guardar CSV limpio en GCS\n",
        "  clean_csv_path = f\"gs://dev_pulse/LTM/{source}_clean.csv\"\n",
        "  with fs.open(clean_csv_path, 'w', encoding=\"utf-8\", newline=\"\") as f:\n",
        "      df.to_csv(f, index=False)\n",
        "\n",
        "  # Configurar carga en BigQuery\n",
        "  job_config = bigquery.LoadJobConfig(\n",
        "      autodetect=True,\n",
        "      source_format=bigquery.SourceFormat.CSV,\n",
        "  )\n",
        "\n",
        "  # Cargar CSV limpio en BigQuery\n",
        "  load_job = client.load_table_from_uri(clean_csv_path, table, job_config=job_config)\n",
        "  load_job.result()\n",
        "\n",
        "  # Ejecutar consultas SQL en BigQuery\n",
        "  sql_statements = [\n",
        "      f\"ALTER TABLE `{table}` ADD COLUMN IF NOT EXISTS created_at TIMESTAMP;\",\n",
        "      f\"ALTER TABLE `{table}` ADD COLUMN IF NOT EXISTS status BOOL;\",\n",
        "      f\"\"\"\n",
        "      UPDATE `{table}`\n",
        "      SET company_name      = \"{company_name}\",\n",
        "          company_new_name  = \"{company_new_name}\",\n",
        "          created_by        = \"hernann@peachcfo.com\",\n",
        "          tab_title         = \"LTM - KPIS\",\n",
        "          created_at        = CURRENT_TIMESTAMP(),\n",
        "          status            = TRUE\n",
        "      WHERE status IS NULL OR status = FALSE;\n",
        "      \"\"\",\n",
        "      f\"\"\"\n",
        "      UPDATE `{table}`\n",
        "      SET status = FALSE\n",
        "      WHERE region IS NULL;\n",
        "      \"\"\"\n",
        "  ]\n",
        "\n",
        "  # Run sql_statements en BigQuery\n",
        "  for sql in sql_statements:\n",
        "      query_job = client.query(sql)\n",
        "      query_job.result()\n",
        "\n",
        "  # Result:\n",
        "  destination_table = client.get_table(table)\n",
        "  print(f\"Loaded {destination_table.num_rows} rows for {company_name} ({company_new_name}).\")\n",
        "\n",
        "else:\n",
        "      print(f\"company_name not exists.\")"
      ],
      "metadata": {
        "colab": {
          "base_uri": "https://localhost:8080/"
        },
        "id": "uZyB0G6nAE6v",
        "outputId": "8f1efc9c-3135-44b0-9ee4-35800f786c80"
      },
      "execution_count": null,
      "outputs": [
        {
          "output_type": "stream",
          "name": "stdout",
          "text": [
            "company_name not exists.\n"
          ]
        }
      ]
    }
  ]
}