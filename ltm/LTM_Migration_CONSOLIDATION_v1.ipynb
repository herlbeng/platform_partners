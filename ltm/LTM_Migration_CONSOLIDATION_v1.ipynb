{
  "nbformat": 4,
  "nbformat_minor": 0,
  "metadata": {
    "colab": {
      "cell_execution_strategy": "setup",
      "provenance": [],
      "name": "LTM Migration CONSOLIDATION"
    },
    "kernelspec": {
      "name": "python3",
      "display_name": "Python 3"
    },
    "language_info": {
      "name": "python"
    }
  },
  "cells": [
    {
      "cell_type": "markdown",
      "source": [
        "#CONSOLIDATION TABLES Procedures:"
      ],
      "metadata": {
        "id": "AGYvNX6B_M2w"
      }
    },
    {
      "cell_type": "markdown",
      "source": [
        "### Configuration:\n",
        "\n",
        "---\n",
        "\n"
      ],
      "metadata": {
        "id": "pAqsV2cuAEzY"
      }
    },
    {
      "cell_type": "code",
      "source": [
        "from google.cloud import bigquery\n",
        "\n",
        "client = bigquery.Client()\n",
        "ENV = \"dev\"             ### REF ENVIRONMENT (DEV/QAS/PRO)  ###\n",
        "DATASET = \"silver\"      ### REF LAYER (BRONZE/SILVER/GOLD) ###\n",
        "PREFIX = \"ltm_\"         ### LTM Process                    ###\n",
        "SUFFIX = \"\"             ### ATENTION !!!!!!!!!!!!!!!!!!!!! ###\n",
        "NO_DROP = \"TRUE\"        ### REF TRUE / FALSE               ###\n",
        "\n",
        "# Company List with original name and new name:\n",
        "companies = [\n",
        "    (\"MONARCH\", \"Shape MHS - Monarch\"),\n",
        "    (\"CAPITAL\", \"Shape CHC - Capital\"),\n",
        "    (\"FUSION\", \"Shape TUCSON - Fusion\"),\n",
        "    (\"OVER THE MOON\", \"Shape OTM - Over the Moon - In Phase\"),\n",
        "    (\"A1 REFRIGERATION\", \"Shape AONE - A One\"),\n",
        "    (\"LBA\", \"Shape LBA - LBA\"),\n",
        "    (\"PRODIGY PLUMBING\", \"Shape LBCA - Prodigy Plumbing\"),\n",
        "    (\"DEAR\", \"Shape DEAR - Dear Services\"),\n",
        "    (\"HEALTHY HOME\", \"Shape HHWI - Healthy Home\"),\n",
        "    (\"CHAD LOVE\", \"Shape CLS - Chad Love\"),\n",
        "    (\"H AND E Comfort\", \"Shape HECS - H&E Comfort\"),\n",
        "    (\"JSP\", \"Shape JSP - John Stevenson\"),\n",
        "    (\"ICE COOLING\", \"Shape ICO - ICE\"),\n",
        "    (\"COMPLETE COMFORT\", \"Shape INDY - Complete Comfort\"),\n",
        "    (\"SYNERGY HOME\", \"Shape LEX - Synergy Home\"),\n",
        "    (\"HOWZE\", \"Shape HZE - Howze Plumbing\"),\n",
        "    (\"PROSTAR SERVICES\", \"Shape NCVA - Prostar\"),\n",
        "    (\"ABSOLUTE PLUMBING\", \"Shape AHS - Absolute Plumbing\"),\n",
        "    (\"PERSONAL\", \"Shape PPP - Personal PHC\"),\n",
        "    (\"MY GUY\", \"Shape MGY - My Guy\"),\n",
        "    (\"NORTHSTAR\", \"Shape NS - Northstar Services\"),\n",
        "    (\"SUPREME\", \"Shape SST - Supreme Service\"),\n",
        "    (\"SPARTAN\", \"Shape JFSP - Spartan Plumbing\"),\n",
        "    (\"PERFECT TEMP\", \"Shape PTHC - Perfect Temp\"),\n",
        "    (\"PILOT\", \"Shape PHS - Pilot Plumbing\"),\n",
        "    (\"COSMIC COMFORT\", \"Shape COS - Jantz Cosmic Comfort\"),\n",
        "    (\"GREEN ENERGY\", \"Shape GEM - Green Energy\"),\n",
        "    (\"SHARP\", \"Shape NEWE - Sharp PHC\"),\n",
        "    (\"DAFFY DUCTS\", \"DAFFY DUCTS\")\n",
        "]"
      ],
      "metadata": {
        "id": "Fb8hy8TDAHIM"
      },
      "execution_count": null,
      "outputs": []
    },
    {
      "cell_type": "markdown",
      "source": [
        "### `Drop Tables: Variable Layer (Bronze/Silver/Gold)`\n",
        "\n",
        "---\n",
        "\n"
      ],
      "metadata": {
        "id": "utGNPijk_AJ2"
      }
    },
    {
      "cell_type": "code",
      "source": [
        "if (NO_DROP == \"FALSE\"):\n",
        "    table = f\"gp-technologies-{ENV}.{DATASET}.ltm_consolidate\"\n",
        "\n",
        "    sql_statements = [\n",
        "        f\"\"\"\n",
        "        DROP TABLE IF EXISTS {table};\n",
        "        \"\"\"\n",
        "    ]\n",
        "\n",
        "    # Run sql_statements en BigQuery\n",
        "    for sql in sql_statements:\n",
        "        query_job = client.query(sql)\n",
        "        query_job.result()\n",
        "\n",
        "    # Result:\n",
        "    print(f\"DROP TABLE {table}... Successfully.\")\n",
        "else:\n",
        "      print(f\"DROP NOT ACTIVATE.\")"
      ],
      "metadata": {
        "id": "Yw2CLgUJ--1Q",
        "colab": {
          "base_uri": "https://localhost:8080/"
        },
        "outputId": "ad42c257-2748-4e53-d0cb-748237b5b66c"
      },
      "execution_count": null,
      "outputs": [
        {
          "output_type": "stream",
          "name": "stdout",
          "text": [
            "DROP NOT ACTIVATE.\n"
          ]
        }
      ]
    },
    {
      "cell_type": "markdown",
      "source": [
        "### `CLYCLE SCRIPT FOR CONSOLIDATION`\n",
        "---"
      ],
      "metadata": {
        "id": "k2a-5zDEFKOc"
      }
    },
    {
      "cell_type": "code",
      "source": [
        "# SCRIPT CONSOLIDATION EN CICLO PARA COMPANIES:\n",
        "union_queries = []\n",
        "table = f\"gp-technologies-{ENV}.{DATASET}.ltm_consolidate\"\n",
        "\n",
        "# Iterar sobre cada compañía en la lista\n",
        "for company_name, company_new_name in companies:\n",
        "    source = f\"{PREFIX}{company_name.replace(' ', '_').lower()}\"\n",
        "    table_id = f\"gp-technologies-{ENV}.{DATASET}.{source}\"\n",
        "\n",
        "    union_queries.append(\n",
        "        f\"SELECT * FROM {table_id}\"\n",
        "    )\n",
        "\n",
        "# Unir todas las consultas con UNION ALL\n",
        "final_sql = f\"\"\"\n",
        "CREATE OR REPLACE TABLE {table} AS\n",
        "WITH combined_data AS (\n",
        "    {' UNION ALL '.join(union_queries)}\n",
        ")\n",
        "SELECT * FROM combined_data;\n",
        "\"\"\"\n",
        "#print(final_sql)\n",
        "\n",
        "# Ejecutar la consulta en BigQuery\n",
        "query_job = client.query(final_sql)\n",
        "query_job.result()\n",
        "\n",
        "destination_table = client.get_table(table)\n",
        "print(f\"Consolidation for Table {destination_table}... Total rows {destination_table.num_rows} Successfully\")"
      ],
      "metadata": {
        "id": "lRSET3o9D3Mu",
        "colab": {
          "base_uri": "https://localhost:8080/"
        },
        "outputId": "d8d11f9d-2d46-44c1-ed3e-8f20a302ee3f"
      },
      "execution_count": null,
      "outputs": [
        {
          "output_type": "stream",
          "name": "stdout",
          "text": [
            "Consolidation for Table gp-technologies-dev.silver.ltm_consolidate... Total rows 8640 Successfully\n"
          ]
        }
      ]
    },
    {
      "cell_type": "code",
      "source": [
        "# SCRIPT CONSOLIDATION EN CICLO PARA COMPANIES VISTA AGRUPADA:\n",
        "union_queries = []\n",
        "table = f\"gp-technologies-{ENV}.{DATASET}.ltm_consolidate_group\"\n",
        "\n",
        "# Iterar sobre cada compañía en la lista\n",
        "for company_name, company_new_name in companies:\n",
        "    source = f\"{PREFIX}{company_name.replace(' ', '_').lower()}\"\n",
        "    table_id = f\"gp-technologies-{ENV}.{DATASET}.{source}\"\n",
        "\n",
        "    union_queries.append(\n",
        "        f\"SELECT * FROM {table_id}\"\n",
        "    )\n",
        "\n",
        "# Unir todas las consultas con UNION ALL\n",
        "final_sql = f\"\"\"\n",
        "CREATE OR REPLACE VIEW {table} AS (\n",
        "  WITH companies AS (SELECT * FROM gp-technologies-dev.bronze.companies)\n",
        "SELECT LTM.company_new_name\n",
        "     , C.company_join_date AS middle_point\n",
        "     , LTM.month AS month\n",
        "     , LTM.revenue_total\n",
        "     , LTM.single_jobs_total\n",
        "     , LTM.manpower_sj_qty, LTM.manpower_svc_pj_qty, LTM.manpower_repl_pj_qty\n",
        "     , LTM.sold_hours_total_sold_hrs\n",
        "     , LTM.sj__usd_100_total\n",
        "     , LTM.recalls_total\n",
        "     , LTM.sj_repair_avg_usd_total\n",
        "     , LTM.conversion_usd_avg_total\n",
        "     , LTM.sj_mktestimates_total\n",
        "     , LTM.sj_mkte_conv_usd_total\n",
        "     , LTM.af_prj_avg_usd_total\n",
        "     , LTM.equip_avg_usd_total\n",
        "     , LTM.svc_prj_avg_usd_total\n",
        "  FROM companies C\n",
        "  JOIN (\n",
        "       SELECT company_new_name\n",
        "            , month\n",
        "            , SUM(revenue_total) AS revenue_total\n",
        "            , ROUND(SUM(single_jobs_total),0) AS single_jobs_total\n",
        "            , ROUND(SUM(manpower_sj_qty),0) AS manpower_sj_qty, ROUND(SUM(manpower_svc_pj_qty),0) AS manpower_svc_pj_qty, ROUND(SUM(manpower_repl_pj_qty),0) AS manpower_repl_pj_qty\n",
        "            , ROUND(SUM(sold_hours_total_sold_hrs),0) AS sold_hours_total_sold_hrs\n",
        "            , ROUND(SUM(sj__usd_100_total),0) AS sj__usd_100_total\n",
        "            , ROUND(SUM(recalls_total),0) AS recalls_total\n",
        "            , SUM(sj_repair_avg_usd_total) AS sj_repair_avg_usd_total\n",
        "            , SUM(conversion_usd_avg_total) AS conversion_usd_avg_total\n",
        "            , ROUND(SUM(sj_mktestimates_total),0) AS sj_mktestimates_total\n",
        "            , SUM(sj_mkte_conv_usd_total) AS sj_mkte_conv_usd_total\n",
        "            , SUM(af_prj_avg_usd_total) AS af_prj_avg_usd_total\n",
        "            , SUM(equip_avg_usd_total) AS equip_avg_usd_total\n",
        "            , SUM(svc_prj_avg_usd_total) AS svc_prj_avg_usd_total\n",
        "         FROM gp-technologies-dev.silver.ltm_consolidate\n",
        "        GROUP BY company_new_name, month\n",
        "        ORDER BY company_new_name, month\n",
        "       ) LTM\n",
        "    ON LTM.company_new_name = C.company_new_name\n",
        " ORDER BY middle_point\n",
        ");\n",
        "\"\"\"\n",
        "#print(final_sql)\n",
        "\n",
        "# Ejecutar la consulta en BigQuery\n",
        "query_job = client.query(final_sql)\n",
        "query_job.result()\n",
        "\n",
        "destination_table = client.get_table(table)\n",
        "print(f\"View {destination_table} created... Total rows {destination_table.num_rows} Successfully\")"
      ],
      "metadata": {
        "colab": {
          "base_uri": "https://localhost:8080/"
        },
        "id": "S-CIzxMvNJ_f",
        "outputId": "23f93ed3-f163-4f43-c023-57153c3b0b54"
      },
      "execution_count": null,
      "outputs": [
        {
          "output_type": "stream",
          "name": "stdout",
          "text": [
            "View gp-technologies-dev.silver.ltm_consolidate_group created... Total rows 0 Successfully\n"
          ]
        }
      ]
    }
  ]
}